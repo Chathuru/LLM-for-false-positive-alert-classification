{
 "nbformat": 4,
 "nbformat_minor": 0,
 "metadata": {
  "colab": {
   "provenance": []
  },
  "kernelspec": {
   "name": "python3",
   "display_name": "Python 3"
  },
  "language_info": {
   "name": "python"
  }
 },
 "cells": [
  {
   "cell_type": "code",
   "source": [
    "!cp '/content/drive/MyDrive/Colab Notebooks/02-14-2018.csv' ."
   ],
   "metadata": {
    "id": "b-DtfBrjCJMi"
   },
   "execution_count": 1,
   "outputs": []
  },
  {
   "cell_type": "code",
   "execution_count": null,
   "metadata": {
    "id": "duQb8FSExWnI"
   },
   "outputs": [],
   "source": [
    "!pip3 install datasets"
   ]
  },
  {
   "cell_type": "code",
   "source": [
    "import glob\n",
    "import pandas as pd\n",
    "import numpy as np\n",
    "from itertools import combinations\n",
    "from datasets import load_dataset\n",
    "from sklearn.model_selection import train_test_split"
   ],
   "metadata": {
    "id": "a0uvAKugxbT4"
   },
   "execution_count": 96,
   "outputs": []
  },
  {
   "cell_type": "code",
   "source": [
    "csv_files = glob.glob(\"*.csv\")\n",
    "\n",
    "dataset = pd.DataFrame()\n",
    "for csv_file in csv_files:\n",
    "    df = pd.read_csv(csv_file)\n",
    "    dataset = pd.concat([dataset, df], axis = 0)"
   ],
   "metadata": {
    "id": "26cTQDoAxfvy"
   },
   "execution_count": 97,
   "outputs": []
  },
  {
   "cell_type": "code",
   "source": [
    "dataset['Label'].value_counts()"
   ],
   "metadata": {
    "id": "QdFQe9KLEYTc"
   },
   "execution_count": null,
   "outputs": []
  },
  {
   "cell_type": "code",
   "source": [
    "dataset.columns=dataset.columns.str.strip()\n",
    "\n",
    "zero_variance_cols=[]\n",
    "for col in dataset.columns:\n",
    "  if len(dataset[col].unique()) == 1:\n",
    "    zero_variance_cols.append(col)\n",
    "\n",
    "dataset.drop(columns=zero_variance_cols, axis=1, inplace=True)\n",
    "\n",
    "dataset.replace([np.inf, -np.inf], np.nan, inplace=True)\n",
    "dataset.dropna(inplace=True)\n",
    "dataset.drop_duplicates(inplace=True)\n",
    "\n",
    "column_pairs = [(i, j) for i, j in combinations(dataset, 2) if dataset[i].equals(dataset[j])]\n",
    "ide_cols = []\n",
    "for col_pair in column_pairs:\n",
    "    ide_cols.append(col_pair[1])\n",
    "dataset.drop(columns=ide_cols, axis=1, inplace=True)"
   ],
   "metadata": {
    "id": "653TNYG3x_Zv"
   },
   "execution_count": 99,
   "outputs": []
  },
  {
   "cell_type": "code",
   "source": [
    "dataset.replace(to_replace=['FTP-BruteForce'], value=1, inplace=True)\n",
    "dataset.replace(to_replace=['SSH-Bruteforce'], value=1, inplace=True)\n",
    "dataset.replace(to_replace=['Benign'], value=0, inplace=True)"
   ],
   "metadata": {
    "id": "lAuGDGjOyV-Q"
   },
   "execution_count": 100,
   "outputs": []
  },
  {
   "cell_type": "code",
   "source": [
    "dataset['Label'].value_counts()"
   ],
   "metadata": {
    "id": "kmkZFZ-FEvFh"
   },
   "execution_count": null,
   "outputs": []
  },
  {
   "cell_type": "code",
   "source": [
    "df1 = dataset[dataset['Label'] == 0][:60]\n",
    "df2 = dataset[dataset['Label'] == 1][:60]"
   ],
   "metadata": {
    "id": "WydOjMmYydpv"
   },
   "execution_count": 102,
   "outputs": []
  },
  {
   "cell_type": "code",
   "source": [
    "df = pd.concat([df1, df2], axis=0)"
   ],
   "metadata": {
    "id": "M0bgKW_JyfnM"
   },
   "execution_count": 103,
   "outputs": []
  },
  {
   "cell_type": "code",
   "source": [
    "df['text'] = df[df.columns[0:]].apply(\n",
    "    lambda x: ' '.join(x.dropna().astype(str)),\n",
    "    axis=1\n",
    ")"
   ],
   "metadata": {
    "id": "28l_jNUMyvlc"
   },
   "execution_count": 104,
   "outputs": []
  },
  {
   "cell_type": "code",
   "source": [
    "df = df[df.columns.intersection(['text', 'Label'])]\n",
    "df = df.sample(frac=1)\n",
    "df['label']=df['Label']\n",
    "df.drop(columns='Label', axis=1, inplace=True)"
   ],
   "metadata": {
    "id": "4Jv5YNiczZSj"
   },
   "execution_count": 105,
   "outputs": []
  },
  {
   "cell_type": "code",
   "source": [
    "df.to_json(\"openaiDataset.jsonl\", orient='records', lines=True)"
   ],
   "metadata": {
    "id": "nfcBl17ZzanK"
   },
   "execution_count": 106,
   "outputs": []
  },
  {
   "cell_type": "code",
   "source": [
    "train, test = train_test_split(df, test_size=0.2)"
   ],
   "metadata": {
    "id": "rRUz1LdRI0QI"
   },
   "execution_count": 107,
   "outputs": []
  },
  {
   "cell_type": "code",
   "source": [
    "train.to_json(\"hfTrainingDataset.jsonl\", orient='records', lines=True)\n",
    "test.to_json(\"hfTestingDataset.jsonl\", orient='records', lines=True)"
   ],
   "metadata": {
    "id": "HHUZrUiBJS4W"
   },
   "execution_count": 108,
   "outputs": []
  },
  {
   "cell_type": "code",
   "source": [
    "from huggingface_hub import notebook_login\n",
    "\n",
    "notebook_login()"
   ],
   "metadata": {
    "id": "MPrvxjw0K8Cf"
   },
   "execution_count": null,
   "outputs": []
  },
  {
   "cell_type": "code",
   "source": [
    "dataset = load_dataset('json', data_files={'train': 'hfTrainingDataset.jsonl', 'test': 'hfTestingDataset.jsonl'})\n",
    "dataset.push_to_hub('chathuru/cicids2018')"
   ],
   "metadata": {
    "id": "OFf9CKL5LQID"
   },
   "execution_count": null,
   "outputs": []
  }
 ]
}
